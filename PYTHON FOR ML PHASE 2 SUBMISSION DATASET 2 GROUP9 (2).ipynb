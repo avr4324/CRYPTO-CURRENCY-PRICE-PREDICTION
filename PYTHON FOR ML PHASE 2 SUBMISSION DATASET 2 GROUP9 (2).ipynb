{
 "cells": [
  {
   "cell_type": "code",
   "execution_count": 261,
   "id": "633961df",
   "metadata": {},
   "outputs": [],
   "source": [
    "import pandas as pd\n",
    "from sklearn.preprocessing import StandardScaler, MinMaxScaler, KBinsDiscretizer\n",
    "import numpy as np\n",
    "import matplotlib.pyplot as plt\n",
    "import seaborn as sns"
   ]
  },
  {
   "cell_type": "code",
   "execution_count": 262,
   "id": "e6fc887c",
   "metadata": {},
   "outputs": [
    {
     "data": {
      "text/html": [
       "<div>\n",
       "<style scoped>\n",
       "    .dataframe tbody tr th:only-of-type {\n",
       "        vertical-align: middle;\n",
       "    }\n",
       "\n",
       "    .dataframe tbody tr th {\n",
       "        vertical-align: top;\n",
       "    }\n",
       "\n",
       "    .dataframe thead th {\n",
       "        text-align: right;\n",
       "    }\n",
       "</style>\n",
       "<table border=\"1\" class=\"dataframe\">\n",
       "  <thead>\n",
       "    <tr style=\"text-align: right;\">\n",
       "      <th></th>\n",
       "      <th>Close (BTC)</th>\n",
       "      <th>Volume (BTC)</th>\n",
       "      <th>Close (ETH)</th>\n",
       "      <th>Volume (ETH)</th>\n",
       "      <th>Close (USDT)</th>\n",
       "      <th>Volume (USDT)</th>\n",
       "      <th>Close (BNB)</th>\n",
       "      <th>Volume (BNB)</th>\n",
       "    </tr>\n",
       "    <tr>\n",
       "      <th>Date</th>\n",
       "      <th></th>\n",
       "      <th></th>\n",
       "      <th></th>\n",
       "      <th></th>\n",
       "      <th></th>\n",
       "      <th></th>\n",
       "      <th></th>\n",
       "      <th></th>\n",
       "    </tr>\n",
       "  </thead>\n",
       "  <tbody>\n",
       "    <tr>\n",
       "      <th>2017-11-13 00:00:00+00:00</th>\n",
       "      <td>6559.490234</td>\n",
       "      <td>6263249920</td>\n",
       "      <td>316.716003</td>\n",
       "      <td>1041889984</td>\n",
       "      <td>1.00935</td>\n",
       "      <td>767884032</td>\n",
       "      <td>1.68662</td>\n",
       "      <td>12238800</td>\n",
       "    </tr>\n",
       "    <tr>\n",
       "      <th>2017-11-14 00:00:00+00:00</th>\n",
       "      <td>6635.750000</td>\n",
       "      <td>3197110016</td>\n",
       "      <td>337.631012</td>\n",
       "      <td>1069680000</td>\n",
       "      <td>1.00683</td>\n",
       "      <td>429857984</td>\n",
       "      <td>1.59258</td>\n",
       "      <td>7829600</td>\n",
       "    </tr>\n",
       "    <tr>\n",
       "      <th>2017-11-15 00:00:00+00:00</th>\n",
       "      <td>7315.540039</td>\n",
       "      <td>4200880128</td>\n",
       "      <td>333.356995</td>\n",
       "      <td>722665984</td>\n",
       "      <td>1.00318</td>\n",
       "      <td>449671008</td>\n",
       "      <td>1.53045</td>\n",
       "      <td>7615500</td>\n",
       "    </tr>\n",
       "    <tr>\n",
       "      <th>2017-11-16 00:00:00+00:00</th>\n",
       "      <td>7871.689941</td>\n",
       "      <td>5123809792</td>\n",
       "      <td>330.924011</td>\n",
       "      <td>797254016</td>\n",
       "      <td>1.00212</td>\n",
       "      <td>650278976</td>\n",
       "      <td>1.57792</td>\n",
       "      <td>8928640</td>\n",
       "    </tr>\n",
       "    <tr>\n",
       "      <th>2017-11-17 00:00:00+00:00</th>\n",
       "      <td>7708.990234</td>\n",
       "      <td>4651670016</td>\n",
       "      <td>332.394012</td>\n",
       "      <td>621732992</td>\n",
       "      <td>1.00139</td>\n",
       "      <td>639398016</td>\n",
       "      <td>1.51036</td>\n",
       "      <td>8508840</td>\n",
       "    </tr>\n",
       "  </tbody>\n",
       "</table>\n",
       "</div>"
      ],
      "text/plain": [
       "                           Close (BTC)  Volume (BTC)  Close (ETH)  \\\n",
       "Date                                                                \n",
       "2017-11-13 00:00:00+00:00  6559.490234    6263249920   316.716003   \n",
       "2017-11-14 00:00:00+00:00  6635.750000    3197110016   337.631012   \n",
       "2017-11-15 00:00:00+00:00  7315.540039    4200880128   333.356995   \n",
       "2017-11-16 00:00:00+00:00  7871.689941    5123809792   330.924011   \n",
       "2017-11-17 00:00:00+00:00  7708.990234    4651670016   332.394012   \n",
       "\n",
       "                           Volume (ETH)  Close (USDT)  Volume (USDT)  \\\n",
       "Date                                                                   \n",
       "2017-11-13 00:00:00+00:00    1041889984       1.00935      767884032   \n",
       "2017-11-14 00:00:00+00:00    1069680000       1.00683      429857984   \n",
       "2017-11-15 00:00:00+00:00     722665984       1.00318      449671008   \n",
       "2017-11-16 00:00:00+00:00     797254016       1.00212      650278976   \n",
       "2017-11-17 00:00:00+00:00     621732992       1.00139      639398016   \n",
       "\n",
       "                           Close (BNB)  Volume (BNB)  \n",
       "Date                                                  \n",
       "2017-11-13 00:00:00+00:00      1.68662      12238800  \n",
       "2017-11-14 00:00:00+00:00      1.59258       7829600  \n",
       "2017-11-15 00:00:00+00:00      1.53045       7615500  \n",
       "2017-11-16 00:00:00+00:00      1.57792       8928640  \n",
       "2017-11-17 00:00:00+00:00      1.51036       8508840  "
      ]
     },
     "execution_count": 262,
     "metadata": {},
     "output_type": "execute_result"
    }
   ],
   "source": [
    "df = pd.read_csv(r\"crypto_dataset2.csv\")\n",
    "df = df.set_index(\"Date\")\n",
    "df.head()"
   ]
  },
  {
   "cell_type": "code",
   "execution_count": 263,
   "id": "3d73f12a",
   "metadata": {},
   "outputs": [
    {
     "data": {
      "text/plain": [
       "(1827, 8)"
      ]
     },
     "execution_count": 263,
     "metadata": {},
     "output_type": "execute_result"
    }
   ],
   "source": [
    "df.shape"
   ]
  },
  {
   "cell_type": "code",
   "execution_count": 264,
   "id": "62d4b95e",
   "metadata": {},
   "outputs": [
    {
     "data": {
      "text/plain": [
       "Close (BTC)      0\n",
       "Volume (BTC)     0\n",
       "Close (ETH)      0\n",
       "Volume (ETH)     0\n",
       "Close (USDT)     0\n",
       "Volume (USDT)    0\n",
       "Close (BNB)      0\n",
       "Volume (BNB)     0\n",
       "dtype: int64"
      ]
     },
     "execution_count": 264,
     "metadata": {},
     "output_type": "execute_result"
    }
   ],
   "source": [
    "df.isnull().sum()"
   ]
  },
  {
   "cell_type": "code",
   "execution_count": 265,
   "id": "72a57333",
   "metadata": {},
   "outputs": [
    {
     "data": {
      "text/html": [
       "<div>\n",
       "<style scoped>\n",
       "    .dataframe tbody tr th:only-of-type {\n",
       "        vertical-align: middle;\n",
       "    }\n",
       "\n",
       "    .dataframe tbody tr th {\n",
       "        vertical-align: top;\n",
       "    }\n",
       "\n",
       "    .dataframe thead th {\n",
       "        text-align: right;\n",
       "    }\n",
       "</style>\n",
       "<table border=\"1\" class=\"dataframe\">\n",
       "  <thead>\n",
       "    <tr style=\"text-align: right;\">\n",
       "      <th></th>\n",
       "      <th>Close (BTC)</th>\n",
       "      <th>Volume (BTC)</th>\n",
       "      <th>Close (ETH)</th>\n",
       "      <th>Volume (ETH)</th>\n",
       "      <th>Close (USDT)</th>\n",
       "      <th>Volume (USDT)</th>\n",
       "      <th>Close (BNB)</th>\n",
       "      <th>Volume (BNB)</th>\n",
       "    </tr>\n",
       "  </thead>\n",
       "  <tbody>\n",
       "    <tr>\n",
       "      <th>count</th>\n",
       "      <td>1827.000000</td>\n",
       "      <td>1.827000e+03</td>\n",
       "      <td>1827.000000</td>\n",
       "      <td>1.827000e+03</td>\n",
       "      <td>1827.000000</td>\n",
       "      <td>1.827000e+03</td>\n",
       "      <td>1827.000000</td>\n",
       "      <td>1.827000e+03</td>\n",
       "    </tr>\n",
       "    <tr>\n",
       "      <th>mean</th>\n",
       "      <td>20228.315369</td>\n",
       "      <td>2.630272e+10</td>\n",
       "      <td>1129.229883</td>\n",
       "      <td>1.308885e+10</td>\n",
       "      <td>1.001606</td>\n",
       "      <td>4.156009e+10</td>\n",
       "      <td>143.886168</td>\n",
       "      <td>9.717711e+08</td>\n",
       "    </tr>\n",
       "    <tr>\n",
       "      <th>std</th>\n",
       "      <td>17028.454586</td>\n",
       "      <td>1.995516e+10</td>\n",
       "      <td>1203.999710</td>\n",
       "      <td>1.086878e+10</td>\n",
       "      <td>0.005771</td>\n",
       "      <td>3.842981e+10</td>\n",
       "      <td>184.167061</td>\n",
       "      <td>1.452963e+09</td>\n",
       "    </tr>\n",
       "    <tr>\n",
       "      <th>min</th>\n",
       "      <td>3236.761719</td>\n",
       "      <td>2.923670e+09</td>\n",
       "      <td>84.308296</td>\n",
       "      <td>6.217330e+08</td>\n",
       "      <td>0.966644</td>\n",
       "      <td>4.298580e+08</td>\n",
       "      <td>1.510360</td>\n",
       "      <td>9.284000e+03</td>\n",
       "    </tr>\n",
       "    <tr>\n",
       "      <th>25%</th>\n",
       "      <td>7666.110107</td>\n",
       "      <td>1.082725e+10</td>\n",
       "      <td>208.977219</td>\n",
       "      <td>4.495085e+09</td>\n",
       "      <td>0.999988</td>\n",
       "      <td>6.042266e+09</td>\n",
       "      <td>14.114409</td>\n",
       "      <td>1.360422e+08</td>\n",
       "    </tr>\n",
       "    <tr>\n",
       "      <th>50%</th>\n",
       "      <td>10793.339844</td>\n",
       "      <td>2.399141e+10</td>\n",
       "      <td>474.911011</td>\n",
       "      <td>1.095112e+10</td>\n",
       "      <td>1.000508</td>\n",
       "      <td>3.639024e+10</td>\n",
       "      <td>23.811028</td>\n",
       "      <td>3.480300e+08</td>\n",
       "    </tr>\n",
       "    <tr>\n",
       "      <th>75%</th>\n",
       "      <td>33734.515625</td>\n",
       "      <td>3.563229e+10</td>\n",
       "      <td>1802.761414</td>\n",
       "      <td>1.836356e+10</td>\n",
       "      <td>1.002518</td>\n",
       "      <td>6.090617e+10</td>\n",
       "      <td>293.938461</td>\n",
       "      <td>1.410656e+09</td>\n",
       "    </tr>\n",
       "    <tr>\n",
       "      <th>max</th>\n",
       "      <td>67566.828125</td>\n",
       "      <td>3.509679e+11</td>\n",
       "      <td>4812.087402</td>\n",
       "      <td>8.448291e+10</td>\n",
       "      <td>1.077880</td>\n",
       "      <td>2.790675e+11</td>\n",
       "      <td>675.684082</td>\n",
       "      <td>1.798295e+10</td>\n",
       "    </tr>\n",
       "  </tbody>\n",
       "</table>\n",
       "</div>"
      ],
      "text/plain": [
       "        Close (BTC)  Volume (BTC)  Close (ETH)  Volume (ETH)  Close (USDT)  \\\n",
       "count   1827.000000  1.827000e+03  1827.000000  1.827000e+03   1827.000000   \n",
       "mean   20228.315369  2.630272e+10  1129.229883  1.308885e+10      1.001606   \n",
       "std    17028.454586  1.995516e+10  1203.999710  1.086878e+10      0.005771   \n",
       "min     3236.761719  2.923670e+09    84.308296  6.217330e+08      0.966644   \n",
       "25%     7666.110107  1.082725e+10   208.977219  4.495085e+09      0.999988   \n",
       "50%    10793.339844  2.399141e+10   474.911011  1.095112e+10      1.000508   \n",
       "75%    33734.515625  3.563229e+10  1802.761414  1.836356e+10      1.002518   \n",
       "max    67566.828125  3.509679e+11  4812.087402  8.448291e+10      1.077880   \n",
       "\n",
       "       Volume (USDT)  Close (BNB)  Volume (BNB)  \n",
       "count   1.827000e+03  1827.000000  1.827000e+03  \n",
       "mean    4.156009e+10   143.886168  9.717711e+08  \n",
       "std     3.842981e+10   184.167061  1.452963e+09  \n",
       "min     4.298580e+08     1.510360  9.284000e+03  \n",
       "25%     6.042266e+09    14.114409  1.360422e+08  \n",
       "50%     3.639024e+10    23.811028  3.480300e+08  \n",
       "75%     6.090617e+10   293.938461  1.410656e+09  \n",
       "max     2.790675e+11   675.684082  1.798295e+10  "
      ]
     },
     "execution_count": 265,
     "metadata": {},
     "output_type": "execute_result"
    }
   ],
   "source": [
    "df.describe()"
   ]
  },
  {
   "cell_type": "markdown",
   "id": "2a99e04a",
   "metadata": {},
   "source": [
    "# DISCRETIZATION"
   ]
  },
  {
   "cell_type": "code",
   "execution_count": 266,
   "id": "c8828478",
   "metadata": {},
   "outputs": [
    {
     "data": {
      "text/html": [
       "<div>\n",
       "<style scoped>\n",
       "    .dataframe tbody tr th:only-of-type {\n",
       "        vertical-align: middle;\n",
       "    }\n",
       "\n",
       "    .dataframe tbody tr th {\n",
       "        vertical-align: top;\n",
       "    }\n",
       "\n",
       "    .dataframe thead th {\n",
       "        text-align: right;\n",
       "    }\n",
       "</style>\n",
       "<table border=\"1\" class=\"dataframe\">\n",
       "  <thead>\n",
       "    <tr style=\"text-align: right;\">\n",
       "      <th></th>\n",
       "      <th>Close (BTC)</th>\n",
       "      <th>Volume (BTC)</th>\n",
       "      <th>Close (ETH)</th>\n",
       "      <th>Volume (ETH)</th>\n",
       "      <th>Close (USDT)</th>\n",
       "      <th>Volume (USDT)</th>\n",
       "      <th>Close (BNB)</th>\n",
       "      <th>Volume (BNB)</th>\n",
       "    </tr>\n",
       "  </thead>\n",
       "  <tbody>\n",
       "    <tr>\n",
       "      <th>0</th>\n",
       "      <td>3.0</td>\n",
       "      <td>3.0</td>\n",
       "      <td>7.0</td>\n",
       "      <td>0.0</td>\n",
       "      <td>18.0</td>\n",
       "      <td>0.0</td>\n",
       "      <td>0.0</td>\n",
       "      <td>0.0</td>\n",
       "    </tr>\n",
       "    <tr>\n",
       "      <th>1</th>\n",
       "      <td>3.0</td>\n",
       "      <td>0.0</td>\n",
       "      <td>7.0</td>\n",
       "      <td>0.0</td>\n",
       "      <td>18.0</td>\n",
       "      <td>0.0</td>\n",
       "      <td>0.0</td>\n",
       "      <td>0.0</td>\n",
       "    </tr>\n",
       "    <tr>\n",
       "      <th>2</th>\n",
       "      <td>4.0</td>\n",
       "      <td>1.0</td>\n",
       "      <td>7.0</td>\n",
       "      <td>0.0</td>\n",
       "      <td>15.0</td>\n",
       "      <td>0.0</td>\n",
       "      <td>0.0</td>\n",
       "      <td>0.0</td>\n",
       "    </tr>\n",
       "    <tr>\n",
       "      <th>3</th>\n",
       "      <td>5.0</td>\n",
       "      <td>2.0</td>\n",
       "      <td>7.0</td>\n",
       "      <td>0.0</td>\n",
       "      <td>14.0</td>\n",
       "      <td>0.0</td>\n",
       "      <td>0.0</td>\n",
       "      <td>0.0</td>\n",
       "    </tr>\n",
       "    <tr>\n",
       "      <th>4</th>\n",
       "      <td>5.0</td>\n",
       "      <td>1.0</td>\n",
       "      <td>7.0</td>\n",
       "      <td>0.0</td>\n",
       "      <td>13.0</td>\n",
       "      <td>0.0</td>\n",
       "      <td>0.0</td>\n",
       "      <td>0.0</td>\n",
       "    </tr>\n",
       "  </tbody>\n",
       "</table>\n",
       "</div>"
      ],
      "text/plain": [
       "   Close (BTC)  Volume (BTC)  Close (ETH)  Volume (ETH)  Close (USDT)  \\\n",
       "0          3.0           3.0          7.0           0.0          18.0   \n",
       "1          3.0           0.0          7.0           0.0          18.0   \n",
       "2          4.0           1.0          7.0           0.0          15.0   \n",
       "3          5.0           2.0          7.0           0.0          14.0   \n",
       "4          5.0           1.0          7.0           0.0          13.0   \n",
       "\n",
       "   Volume (USDT)  Close (BNB)  Volume (BNB)  \n",
       "0            0.0          0.0           0.0  \n",
       "1            0.0          0.0           0.0  \n",
       "2            0.0          0.0           0.0  \n",
       "3            0.0          0.0           0.0  \n",
       "4            0.0          0.0           0.0  "
      ]
     },
     "execution_count": 266,
     "metadata": {},
     "output_type": "execute_result"
    }
   ],
   "source": [
    "# Discretization\n",
    "cols = df.columns\n",
    "discretizer = KBinsDiscretizer(n_bins=20, encode='ordinal')\n",
    "df_discretized = discretizer.fit_transform(df)\n",
    "df_discretized = pd.DataFrame(df_discretized, columns=cols)\n",
    "df_discretized.head()"
   ]
  },
  {
   "cell_type": "markdown",
   "id": "63e74477",
   "metadata": {},
   "source": [
    "# SUMMARIZATION"
   ]
  },
  {
   "cell_type": "code",
   "execution_count": 267,
   "id": "d81058bf",
   "metadata": {},
   "outputs": [
    {
     "name": "stdout",
     "output_type": "stream",
     "text": [
      "MEAN: \n",
      "Close (BTC)      2.022832e+04\n",
      "Volume (BTC)     2.630272e+10\n",
      "Close (ETH)      1.129230e+03\n",
      "Volume (ETH)     1.308885e+10\n",
      "Close (USDT)     1.001606e+00\n",
      "Volume (USDT)    4.156009e+10\n",
      "Close (BNB)      1.438862e+02\n",
      "Volume (BNB)     9.717711e+08\n",
      "dtype: float64\n"
     ]
    }
   ],
   "source": [
    "# Summarization\n",
    "print(f\"MEAN: \\n{df.mean()}\")"
   ]
  },
  {
   "cell_type": "code",
   "execution_count": 268,
   "id": "f3199483",
   "metadata": {},
   "outputs": [
    {
     "name": "stdout",
     "output_type": "stream",
     "text": [
      "MEDIAN: \n",
      "Close (BTC)      1.079334e+04\n",
      "Volume (BTC)     2.399141e+10\n",
      "Close (ETH)      4.749110e+02\n",
      "Volume (ETH)     1.095112e+10\n",
      "Close (USDT)     1.000508e+00\n",
      "Volume (USDT)    3.639024e+10\n",
      "Close (BNB)      2.381103e+01\n",
      "Volume (BNB)     3.480300e+08\n",
      "dtype: float64\n"
     ]
    }
   ],
   "source": [
    "print(f\"MEDIAN: \\n{df.median()}\")"
   ]
  },
  {
   "cell_type": "code",
   "execution_count": 269,
   "id": "e9eb167b",
   "metadata": {},
   "outputs": [
    {
     "name": "stdout",
     "output_type": "stream",
     "text": [
      "MODE: \n",
      "      Close (BTC)  Volume (BTC)  Close (ETH)  Volume (ETH)  Close (USDT)  \\\n",
      "0         6741.75    2923670016    84.308296     621732992      1.000060   \n",
      "1             NaN    3064030000    84.440811     649638976      1.000090   \n",
      "2             NaN    3085320000    85.262100     722665984      1.000097   \n",
      "3             NaN    3104019968    86.539314     797254016      1.001280   \n",
      "4             NaN    3149319936    88.945305     800819008           NaN   \n",
      "...           ...           ...          ...           ...           ...   \n",
      "1822          NaN  117894572511  4651.460449   62691789007           NaN   \n",
      "1823          NaN  118992465607  4667.115234   67610826680           NaN   \n",
      "1824          NaN  123320567399  4730.384277   69023382175           NaN   \n",
      "1825          NaN  126358098747  4735.068848   78398214539           NaN   \n",
      "1826          NaN  350967941479  4812.087402   84482912776           NaN   \n",
      "\n",
      "      Volume (USDT)  Close (BNB)  Volume (BNB)  \n",
      "0      6.430213e+10     1.510360          9284  \n",
      "1               NaN     1.530450       5440790  \n",
      "2               NaN     1.548700       7177000  \n",
      "3               NaN     1.574060       7615500  \n",
      "4               NaN     1.577920       7829600  \n",
      "...             ...          ...           ...  \n",
      "1822            NaN   651.662720    9330924061  \n",
      "1823            NaN   654.315002    9433830832  \n",
      "1824            NaN   662.228577    9680520706  \n",
      "1825            NaN   672.333923   14436315725  \n",
      "1826            NaN   675.684082   17982945189  \n",
      "\n",
      "[1827 rows x 8 columns]\n"
     ]
    }
   ],
   "source": [
    "print(f\"MODE: \\n{df.mode()}\")"
   ]
  },
  {
   "cell_type": "code",
   "execution_count": 270,
   "id": "cc1ac9f2",
   "metadata": {},
   "outputs": [
    {
     "name": "stdout",
     "output_type": "stream",
     "text": [
      "Standard deviation: \n",
      "Close (BTC)      1.702845e+04\n",
      "Volume (BTC)     1.995516e+10\n",
      "Close (ETH)      1.204000e+03\n",
      "Volume (ETH)     1.086878e+10\n",
      "Close (USDT)     5.770870e-03\n",
      "Volume (USDT)    3.842981e+10\n",
      "Close (BNB)      1.841671e+02\n",
      "Volume (BNB)     1.452963e+09\n",
      "dtype: float64\n"
     ]
    }
   ],
   "source": [
    "print(f\"Standard deviation: \\n{df.std()}\")"
   ]
  },
  {
   "cell_type": "markdown",
   "id": "fabc5187",
   "metadata": {},
   "source": [
    "## Visualisation analysis"
   ]
  },
  {
   "cell_type": "code",
   "execution_count": 271,
   "id": "9f4bf97a",
   "metadata": {},
   "outputs": [],
   "source": [
    "# plt.figure(figsize=(18,16))\n",
    "# sns.heatmap(df.corr(), annot=True, cmap=plt.cm.CMRmap_r);"
   ]
  },
  {
   "cell_type": "code",
   "execution_count": 272,
   "id": "b8360c52",
   "metadata": {},
   "outputs": [],
   "source": [
    "# plt.figure(figsize = (25, 5))\n",
    "# sns.set_style('dark')\n",
    "# sns.lineplot(data=df)"
   ]
  },
  {
   "cell_type": "code",
   "execution_count": 273,
   "id": "4c744374",
   "metadata": {},
   "outputs": [],
   "source": [
    "# plt.figure(figsize = (20, 10))\n",
    "# sns.set_style('dark')\n",
    "# sns.lineplot(data = df['Close (BNB)'], label = 'BNB')\n",
    "# sns.lineplot(data = df['Close (ETH)'], label = 'ETH')\n",
    "# sns.lineplot(data = df['Close (BTC)'], label = 'BTC')\n",
    "# sns.lineplot(data = df['Close (USDT)'], label = 'USDT')\n",
    "# plt.title('Adjacent Close Price')"
   ]
  },
  {
   "cell_type": "code",
   "execution_count": 274,
   "id": "8153ea66",
   "metadata": {},
   "outputs": [],
   "source": [
    "# plt.figure(figsize = (20, 10))\n",
    "# sns.set_style('dark')\n",
    "# sns.lineplot(data = df['Volume (BNB)'], label = 'BNB')\n",
    "# sns.lineplot(data = df['Volume (ETH)'], label = 'ETH')\n",
    "# sns.lineplot(data = df['Volume (BTC)'], label = 'BTC')\n",
    "# sns.lineplot(data = df['Volume (USDT)'], label = 'USDT')\n",
    "# plt.title('Volume')"
   ]
  },
  {
   "cell_type": "markdown",
   "id": "c080871b",
   "metadata": {},
   "source": [
    "# Histogram"
   ]
  },
  {
   "cell_type": "code",
   "execution_count": 275,
   "id": "0b25a905",
   "metadata": {},
   "outputs": [],
   "source": [
    "# df.hist(figsize=(20, 8), layout=(2, 4))"
   ]
  },
  {
   "cell_type": "markdown",
   "id": "cddb786a",
   "metadata": {},
   "source": [
    "# Pairplot"
   ]
  },
  {
   "cell_type": "code",
   "execution_count": 276,
   "id": "a5e56daa",
   "metadata": {},
   "outputs": [],
   "source": [
    "# sns.pairplot(df.sample(n=100));"
   ]
  },
  {
   "cell_type": "markdown",
   "id": "2263ecc1",
   "metadata": {},
   "source": [
    "## Data preprocessing"
   ]
  },
  {
   "cell_type": "code",
   "execution_count": null,
   "id": "e30ff08a",
   "metadata": {},
   "outputs": [],
   "source": []
  },
  {
   "cell_type": "code",
   "execution_count": 277,
   "id": "8ed21518",
   "metadata": {},
   "outputs": [],
   "source": [
    "X = df.drop(columns = ['Close (BTC)'], axis = 1)\n",
    "Y = df['Close (BTC)']"
   ]
  },
  {
   "cell_type": "code",
   "execution_count": 278,
   "id": "40b39be7",
   "metadata": {},
   "outputs": [],
   "source": [
    "from sklearn.preprocessing import MinMaxScaler\n",
    "col = X.columns\n",
    "scaler = MinMaxScaler()\n",
    "data = scaler.fit_transform(X)\n",
    "X = pd.DataFrame(data, columns=col)"
   ]
  },
  {
   "cell_type": "code",
   "execution_count": 279,
   "id": "f2c11b8e",
   "metadata": {},
   "outputs": [],
   "source": [
    "# from sklearn.preprocessing import StandardScaler\n",
    "# cols = X.columns\n",
    "# standard_scalar = StandardScaler()\n",
    "# X = standard_scalar.fit_transform(X)\n",
    "# # st_Xtest = standard_scalar.transform(X_test)\n",
    "# X = pd.DataFrame(X, columns=cols)\n",
    "# # st_X_test = pd.DataFrame(st_Xtest, columns=cols)\n",
    "# # st_X_train.head()"
   ]
  },
  {
   "cell_type": "code",
   "execution_count": 280,
   "id": "824372cc",
   "metadata": {},
   "outputs": [
    {
     "data": {
      "text/plain": [
       "Date\n",
       "2017-11-13 00:00:00+00:00    6559.490234\n",
       "2017-11-14 00:00:00+00:00    6635.750000\n",
       "2017-11-15 00:00:00+00:00    7315.540039\n",
       "2017-11-16 00:00:00+00:00    7871.689941\n",
       "2017-11-17 00:00:00+00:00    7708.990234\n",
       "Name: Close (BTC), dtype: float64"
      ]
     },
     "execution_count": 280,
     "metadata": {},
     "output_type": "execute_result"
    }
   ],
   "source": [
    "Y.head()"
   ]
  },
  {
   "cell_type": "code",
   "execution_count": 281,
   "id": "65aceade",
   "metadata": {},
   "outputs": [],
   "source": [
    "from sklearn.model_selection import train_test_split\n",
    "\n",
    "X_train, X_test, Y_train, Y_test = train_test_split(X, Y, test_size = 0.3, random_state=2)"
   ]
  },
  {
   "cell_type": "code",
   "execution_count": 282,
   "id": "829ce8fd",
   "metadata": {
    "scrolled": true
   },
   "outputs": [
    {
     "data": {
      "text/html": [
       "<div>\n",
       "<style scoped>\n",
       "    .dataframe tbody tr th:only-of-type {\n",
       "        vertical-align: middle;\n",
       "    }\n",
       "\n",
       "    .dataframe tbody tr th {\n",
       "        vertical-align: top;\n",
       "    }\n",
       "\n",
       "    .dataframe thead th {\n",
       "        text-align: right;\n",
       "    }\n",
       "</style>\n",
       "<table border=\"1\" class=\"dataframe\">\n",
       "  <thead>\n",
       "    <tr style=\"text-align: right;\">\n",
       "      <th></th>\n",
       "      <th>Volume (BTC)</th>\n",
       "      <th>Close (ETH)</th>\n",
       "      <th>Volume (ETH)</th>\n",
       "      <th>Close (USDT)</th>\n",
       "      <th>Volume (USDT)</th>\n",
       "      <th>Close (BNB)</th>\n",
       "      <th>Volume (BNB)</th>\n",
       "    </tr>\n",
       "  </thead>\n",
       "  <tbody>\n",
       "    <tr>\n",
       "      <th>1120</th>\n",
       "      <td>0.068878</td>\n",
       "      <td>0.107352</td>\n",
       "      <td>0.120422</td>\n",
       "      <td>0.305000</td>\n",
       "      <td>0.147587</td>\n",
       "      <td>0.041336</td>\n",
       "      <td>0.013288</td>\n",
       "    </tr>\n",
       "    <tr>\n",
       "      <th>1795</th>\n",
       "      <td>0.118652</td>\n",
       "      <td>0.254626</td>\n",
       "      <td>0.201253</td>\n",
       "      <td>0.300577</td>\n",
       "      <td>0.215409</td>\n",
       "      <td>0.400996</td>\n",
       "      <td>0.062530</td>\n",
       "    </tr>\n",
       "    <tr>\n",
       "      <th>1477</th>\n",
       "      <td>0.084608</td>\n",
       "      <td>0.922377</td>\n",
       "      <td>0.220182</td>\n",
       "      <td>0.304595</td>\n",
       "      <td>0.260594</td>\n",
       "      <td>0.923797</td>\n",
       "      <td>0.134894</td>\n",
       "    </tr>\n",
       "    <tr>\n",
       "      <th>512</th>\n",
       "      <td>0.033899</td>\n",
       "      <td>0.019418</td>\n",
       "      <td>0.083600</td>\n",
       "      <td>0.370465</td>\n",
       "      <td>0.049833</td>\n",
       "      <td>0.025104</td>\n",
       "      <td>0.011309</td>\n",
       "    </tr>\n",
       "    <tr>\n",
       "      <th>109</th>\n",
       "      <td>0.013495</td>\n",
       "      <td>0.163405</td>\n",
       "      <td>0.015176</td>\n",
       "      <td>0.297440</td>\n",
       "      <td>0.006253</td>\n",
       "      <td>0.012926</td>\n",
       "      <td>0.002582</td>\n",
       "    </tr>\n",
       "    <tr>\n",
       "      <th>...</th>\n",
       "      <td>...</td>\n",
       "      <td>...</td>\n",
       "      <td>...</td>\n",
       "      <td>...</td>\n",
       "      <td>...</td>\n",
       "      <td>...</td>\n",
       "      <td>...</td>\n",
       "    </tr>\n",
       "    <tr>\n",
       "      <th>1558</th>\n",
       "      <td>0.058574</td>\n",
       "      <td>0.571393</td>\n",
       "      <td>0.180375</td>\n",
       "      <td>0.304892</td>\n",
       "      <td>0.187517</td>\n",
       "      <td>0.590440</td>\n",
       "      <td>0.086443</td>\n",
       "    </tr>\n",
       "    <tr>\n",
       "      <th>1608</th>\n",
       "      <td>0.037717</td>\n",
       "      <td>0.672114</td>\n",
       "      <td>0.110735</td>\n",
       "      <td>0.303212</td>\n",
       "      <td>0.142264</td>\n",
       "      <td>0.631355</td>\n",
       "      <td>0.077801</td>\n",
       "    </tr>\n",
       "    <tr>\n",
       "      <th>493</th>\n",
       "      <td>0.022720</td>\n",
       "      <td>0.011068</td>\n",
       "      <td>0.053249</td>\n",
       "      <td>0.405373</td>\n",
       "      <td>0.034427</td>\n",
       "      <td>0.019293</td>\n",
       "      <td>0.008495</td>\n",
       "    </tr>\n",
       "    <tr>\n",
       "      <th>527</th>\n",
       "      <td>0.040582</td>\n",
       "      <td>0.017242</td>\n",
       "      <td>0.080247</td>\n",
       "      <td>0.349886</td>\n",
       "      <td>0.054763</td>\n",
       "      <td>0.032067</td>\n",
       "      <td>0.014449</td>\n",
       "    </tr>\n",
       "    <tr>\n",
       "      <th>1192</th>\n",
       "      <td>0.223813</td>\n",
       "      <td>0.373146</td>\n",
       "      <td>0.421335</td>\n",
       "      <td>0.303193</td>\n",
       "      <td>0.497853</td>\n",
       "      <td>0.242014</td>\n",
       "      <td>0.291177</td>\n",
       "    </tr>\n",
       "  </tbody>\n",
       "</table>\n",
       "<p>1278 rows × 7 columns</p>\n",
       "</div>"
      ],
      "text/plain": [
       "      Volume (BTC)  Close (ETH)  Volume (ETH)  Close (USDT)  Volume (USDT)  \\\n",
       "1120      0.068878     0.107352      0.120422      0.305000       0.147587   \n",
       "1795      0.118652     0.254626      0.201253      0.300577       0.215409   \n",
       "1477      0.084608     0.922377      0.220182      0.304595       0.260594   \n",
       "512       0.033899     0.019418      0.083600      0.370465       0.049833   \n",
       "109       0.013495     0.163405      0.015176      0.297440       0.006253   \n",
       "...            ...          ...           ...           ...            ...   \n",
       "1558      0.058574     0.571393      0.180375      0.304892       0.187517   \n",
       "1608      0.037717     0.672114      0.110735      0.303212       0.142264   \n",
       "493       0.022720     0.011068      0.053249      0.405373       0.034427   \n",
       "527       0.040582     0.017242      0.080247      0.349886       0.054763   \n",
       "1192      0.223813     0.373146      0.421335      0.303193       0.497853   \n",
       "\n",
       "      Close (BNB)  Volume (BNB)  \n",
       "1120     0.041336      0.013288  \n",
       "1795     0.400996      0.062530  \n",
       "1477     0.923797      0.134894  \n",
       "512      0.025104      0.011309  \n",
       "109      0.012926      0.002582  \n",
       "...           ...           ...  \n",
       "1558     0.590440      0.086443  \n",
       "1608     0.631355      0.077801  \n",
       "493      0.019293      0.008495  \n",
       "527      0.032067      0.014449  \n",
       "1192     0.242014      0.291177  \n",
       "\n",
       "[1278 rows x 7 columns]"
      ]
     },
     "execution_count": 282,
     "metadata": {},
     "output_type": "execute_result"
    }
   ],
   "source": [
    "X_train"
   ]
  },
  {
   "cell_type": "code",
   "execution_count": 283,
   "id": "b7d97f9e",
   "metadata": {},
   "outputs": [],
   "source": [
    "from sklearn.feature_selection import SelectKBest\n",
    "\n",
    "fs = SelectKBest(k=4)\n",
    "X_train = fs.fit_transform(X_train, Y_train)\n",
    "X_test = fs.transform(X_test)\n",
    "cols = fs.get_support(indices=True)\n",
    "\n",
    "cols = [X.columns[i] for i in cols]\n",
    "X_train = pd.DataFrame(X_train, columns=cols)\n",
    "X_test = pd.DataFrame(X_test, columns=cols)\n"
   ]
  },
  {
   "cell_type": "code",
   "execution_count": 284,
   "id": "411ee49e",
   "metadata": {},
   "outputs": [
    {
     "data": {
      "text/html": [
       "<div>\n",
       "<style scoped>\n",
       "    .dataframe tbody tr th:only-of-type {\n",
       "        vertical-align: middle;\n",
       "    }\n",
       "\n",
       "    .dataframe tbody tr th {\n",
       "        vertical-align: top;\n",
       "    }\n",
       "\n",
       "    .dataframe thead th {\n",
       "        text-align: right;\n",
       "    }\n",
       "</style>\n",
       "<table border=\"1\" class=\"dataframe\">\n",
       "  <thead>\n",
       "    <tr style=\"text-align: right;\">\n",
       "      <th></th>\n",
       "      <th>Close (ETH)</th>\n",
       "      <th>Volume (USDT)</th>\n",
       "      <th>Close (BNB)</th>\n",
       "      <th>Volume (BNB)</th>\n",
       "    </tr>\n",
       "  </thead>\n",
       "  <tbody>\n",
       "    <tr>\n",
       "      <th>0</th>\n",
       "      <td>0.107352</td>\n",
       "      <td>0.147587</td>\n",
       "      <td>0.041336</td>\n",
       "      <td>0.013288</td>\n",
       "    </tr>\n",
       "    <tr>\n",
       "      <th>1</th>\n",
       "      <td>0.254626</td>\n",
       "      <td>0.215409</td>\n",
       "      <td>0.400996</td>\n",
       "      <td>0.062530</td>\n",
       "    </tr>\n",
       "    <tr>\n",
       "      <th>2</th>\n",
       "      <td>0.922377</td>\n",
       "      <td>0.260594</td>\n",
       "      <td>0.923797</td>\n",
       "      <td>0.134894</td>\n",
       "    </tr>\n",
       "    <tr>\n",
       "      <th>3</th>\n",
       "      <td>0.019418</td>\n",
       "      <td>0.049833</td>\n",
       "      <td>0.025104</td>\n",
       "      <td>0.011309</td>\n",
       "    </tr>\n",
       "    <tr>\n",
       "      <th>4</th>\n",
       "      <td>0.163405</td>\n",
       "      <td>0.006253</td>\n",
       "      <td>0.012926</td>\n",
       "      <td>0.002582</td>\n",
       "    </tr>\n",
       "  </tbody>\n",
       "</table>\n",
       "</div>"
      ],
      "text/plain": [
       "   Close (ETH)  Volume (USDT)  Close (BNB)  Volume (BNB)\n",
       "0     0.107352       0.147587     0.041336      0.013288\n",
       "1     0.254626       0.215409     0.400996      0.062530\n",
       "2     0.922377       0.260594     0.923797      0.134894\n",
       "3     0.019418       0.049833     0.025104      0.011309\n",
       "4     0.163405       0.006253     0.012926      0.002582"
      ]
     },
     "execution_count": 284,
     "metadata": {},
     "output_type": "execute_result"
    }
   ],
   "source": [
    "X_train.head()"
   ]
  },
  {
   "cell_type": "code",
   "execution_count": 285,
   "id": "e1deeda8",
   "metadata": {},
   "outputs": [],
   "source": [
    "# Standardisation\n"
   ]
  },
  {
   "cell_type": "code",
   "execution_count": 286,
   "id": "12d56ec5",
   "metadata": {},
   "outputs": [],
   "source": [
    "# # Normalisation\n",
    "# from sklearn.preprocessing import MinMaxScaler\n",
    "# scaler = MinMaxScaler()\n",
    "# X_train = scaler.fit_transform(X_train)\n",
    "# X_test = scaler.transform(X_test)\n",
    "# # # X_train = pd.DataFrame)\n",
    "# X_train = pd.DataFrame(X_train, columns=cols)\n",
    "# X_test = pd.DataFrame(X_test, columns=cols)\n",
    "# # # scaler1 = MinMaxScaler()\n",
    "# # Y_train = pd.DataFrame(scaler1.fit_transform(Y_train))\n",
    "# # Y_test = pd.DataFrame(scaler1.transform(Y_test))"
   ]
  },
  {
   "cell_type": "code",
   "execution_count": 287,
   "id": "1144e48d",
   "metadata": {},
   "outputs": [
    {
     "data": {
      "text/html": [
       "<div>\n",
       "<style scoped>\n",
       "    .dataframe tbody tr th:only-of-type {\n",
       "        vertical-align: middle;\n",
       "    }\n",
       "\n",
       "    .dataframe tbody tr th {\n",
       "        vertical-align: top;\n",
       "    }\n",
       "\n",
       "    .dataframe thead th {\n",
       "        text-align: right;\n",
       "    }\n",
       "</style>\n",
       "<table border=\"1\" class=\"dataframe\">\n",
       "  <thead>\n",
       "    <tr style=\"text-align: right;\">\n",
       "      <th></th>\n",
       "      <th>Close (ETH)</th>\n",
       "      <th>Volume (USDT)</th>\n",
       "      <th>Close (BNB)</th>\n",
       "      <th>Volume (BNB)</th>\n",
       "    </tr>\n",
       "  </thead>\n",
       "  <tbody>\n",
       "    <tr>\n",
       "      <th>0</th>\n",
       "      <td>0.107352</td>\n",
       "      <td>0.147587</td>\n",
       "      <td>0.041336</td>\n",
       "      <td>0.013288</td>\n",
       "    </tr>\n",
       "    <tr>\n",
       "      <th>1</th>\n",
       "      <td>0.254626</td>\n",
       "      <td>0.215409</td>\n",
       "      <td>0.400996</td>\n",
       "      <td>0.062530</td>\n",
       "    </tr>\n",
       "    <tr>\n",
       "      <th>2</th>\n",
       "      <td>0.922377</td>\n",
       "      <td>0.260594</td>\n",
       "      <td>0.923797</td>\n",
       "      <td>0.134894</td>\n",
       "    </tr>\n",
       "    <tr>\n",
       "      <th>3</th>\n",
       "      <td>0.019418</td>\n",
       "      <td>0.049833</td>\n",
       "      <td>0.025104</td>\n",
       "      <td>0.011309</td>\n",
       "    </tr>\n",
       "    <tr>\n",
       "      <th>4</th>\n",
       "      <td>0.163405</td>\n",
       "      <td>0.006253</td>\n",
       "      <td>0.012926</td>\n",
       "      <td>0.002582</td>\n",
       "    </tr>\n",
       "  </tbody>\n",
       "</table>\n",
       "</div>"
      ],
      "text/plain": [
       "   Close (ETH)  Volume (USDT)  Close (BNB)  Volume (BNB)\n",
       "0     0.107352       0.147587     0.041336      0.013288\n",
       "1     0.254626       0.215409     0.400996      0.062530\n",
       "2     0.922377       0.260594     0.923797      0.134894\n",
       "3     0.019418       0.049833     0.025104      0.011309\n",
       "4     0.163405       0.006253     0.012926      0.002582"
      ]
     },
     "execution_count": 287,
     "metadata": {},
     "output_type": "execute_result"
    }
   ],
   "source": [
    "X_train.head()"
   ]
  },
  {
   "cell_type": "markdown",
   "id": "53f9889a",
   "metadata": {},
   "source": [
    "# DATA VISUALIZATION"
   ]
  },
  {
   "cell_type": "markdown",
   "id": "f373534e",
   "metadata": {},
   "source": [
    "# SCATTER PLOT"
   ]
  },
  {
   "cell_type": "code",
   "execution_count": 288,
   "id": "16897aa0",
   "metadata": {},
   "outputs": [],
   "source": [
    "# # SCATTERPLOT\n",
    "# data = df\n",
    "\n",
    "# plt.plot(data['Close (BTC)'])\n",
    "\n",
    "# plt.title(\"Scatter Plot\")\n",
    " \n",
    "# plt.xlabel('Date')\n",
    "\n",
    "# plt.ylabel('Close (BTC)')\n",
    " \n",
    "# plt.show()"
   ]
  },
  {
   "cell_type": "markdown",
   "id": "bb88bf00",
   "metadata": {},
   "source": [
    "## Modelling"
   ]
  },
  {
   "cell_type": "code",
   "execution_count": 289,
   "id": "665ba79e",
   "metadata": {},
   "outputs": [],
   "source": [
    "from sklearn.linear_model import LinearRegression, Lasso, SGDRegressor\n",
    "from sklearn.ensemble import RandomForestRegressor, GradientBoostingRegressor"
   ]
  },
  {
   "cell_type": "code",
   "execution_count": 290,
   "id": "6c6d6a78",
   "metadata": {
    "scrolled": false
   },
   "outputs": [
    {
     "name": "stdout",
     "output_type": "stream",
     "text": [
      "0.9161938554793835\n",
      "0.9162340688036215\n",
      "0.9162712151431428\n",
      "0.9163054346603068\n",
      "0.9163365620933859\n",
      "0.9163646231225081\n",
      "0.9163896739858406\n",
      "0.9164118223086055\n",
      "0.9164307785535126\n",
      "0.9164468953995194\n",
      "0.9164646779360527\n",
      "0.91648019232244\n",
      "0.9164915374070622\n",
      "0.9165010825387799\n",
      "0.9165026689328527\n",
      "0.9165010724240577\n",
      "0.9164972765445365\n",
      "0.9164900771180853\n"
     ]
    },
    {
     "data": {
      "image/png": "[encoded data removed]",
      "text/plain": [
       "<Figure size 640x480 with 1 Axes>"
      ]
     },
     "metadata": {},
     "output_type": "display_data"
    }
   ],
   "source": [
    "import matplotlib as plt1\n",
    "import seaborn as sns\n",
    "\n",
    "for i in np.arange(1,10,0.5):\n",
    "    model=Lasso(alpha=i)\n",
    "    model.fit(X_train,Y_train)\n",
    "    print(model.score(X_test,Y_test))\n",
    "    \n",
    "    plt1.pyplot.scatter(i,model.score(X_test,Y_test), label='ynew1', color='red')"
   ]
  },
  {
   "cell_type": "markdown",
   "id": "8ba38f10",
   "metadata": {},
   "source": [
    "### Best parameter for alpha = 3.5"
   ]
  },
  {
   "cell_type": "code",
   "execution_count": 291,
   "id": "5aea5ae2",
   "metadata": {
    "scrolled": true
   },
   "outputs": [
    {
     "name": "stderr",
     "output_type": "stream",
     "text": [
      "C:\\Users\\rjaga\\AppData\\Local\\Temp\\ipykernel_2624\\944121541.py:10: UserWarning: With alpha=0, this algorithm does not converge well. You are advised to use the LinearRegression estimator\n",
      "  model.fit(X_train, Y_train)\n",
      "C:\\Users\\rjaga\\anaconda3\\lib\\site-packages\\sklearn\\linear_model\\_coordinate_descent.py:647: UserWarning: Coordinate descent with no regularization may lead to unexpected results and is discouraged.\n",
      "  model = cd_fast.enet_coordinate_descent(\n",
      "C:\\Users\\rjaga\\anaconda3\\lib\\site-packages\\sklearn\\linear_model\\_coordinate_descent.py:647: ConvergenceWarning: Objective did not converge. You might want to increase the number of iterations, check the scale of the features or consider increasing regularisation. Duality gap: 1.454e+10, tolerance: 3.673e+07 Linear regression models with null weight for the l1 regularization term are more efficiently fitted using one of the solvers implemented in sklearn.linear_model.Ridge/RidgeCV instead.\n",
      "  model = cd_fast.enet_coordinate_descent(\n"
     ]
    },
    {
     "name": "stdout",
     "output_type": "stream",
     "text": [
      "Best learning rate: 8.080808080808081\n"
     ]
    }
   ],
   "source": [
    "import time\n",
    "mse_values=[]\n",
    "execution_times = []\n",
    "learning_rates = np.linspace(0, 20, 100)\n",
    "for lr in learning_rates:\n",
    "    start_time = time.time()\n",
    "    model = Lasso(alpha=lr)\n",
    "\n",
    "\n",
    "    model.fit(X_train, Y_train)\n",
    "\n",
    "    \n",
    "    y_pred = model.predict(X_test)\n",
    "\n",
    "\n",
    "    mse = metrics.mean_squared_error(Y_test, y_pred)\n",
    "    mse_values.append(mse)\n",
    "    end_time = time.time()\n",
    "\n",
    "    execution_time = end_time - start_time\n",
    "    execution_times.append(execution_time)\n",
    "\n",
    "best_lr_index = np.argmin(mse_values)\n",
    "\n",
    "\n",
    "best_lr = learning_rates[best_lr_index]\n",
    "\n",
    "\n",
    "print(\"Best learning rate:\", best_lr)"
   ]
  },
  {
   "cell_type": "code",
   "execution_count": 292,
   "id": "b3443e82",
   "metadata": {},
   "outputs": [
    {
     "data": {
      "text/plain": [
       "Lasso(alpha=8.080808080808081)"
      ]
     },
     "execution_count": 292,
     "metadata": {},
     "output_type": "execute_result"
    }
   ],
   "source": [
    "lasso = Lasso(alpha=best_lr)\n",
    "lasso.fit(X_train, Y_train)"
   ]
  },
  {
   "cell_type": "code",
   "execution_count": 293,
   "id": "424dd221",
   "metadata": {},
   "outputs": [
    {
     "data": {
      "text/plain": [
       "LinearRegression()"
      ]
     },
     "execution_count": 293,
     "metadata": {},
     "output_type": "execute_result"
    }
   ],
   "source": [
    "lr = LinearRegression()\n",
    "lr.fit(X_train, Y_train)"
   ]
  },
  {
   "cell_type": "code",
   "execution_count": 294,
   "id": "2832ce55",
   "metadata": {},
   "outputs": [
    {
     "data": {
      "text/plain": [
       "RandomForestRegressor()"
      ]
     },
     "execution_count": 294,
     "metadata": {},
     "output_type": "execute_result"
    }
   ],
   "source": [
    "rf = RandomForestRegressor()\n",
    "rf.fit(X_train,Y_train)"
   ]
  },
  {
   "cell_type": "code",
   "execution_count": 295,
   "id": "6a49daa9",
   "metadata": {},
   "outputs": [
    {
     "data": {
      "text/plain": [
       "GradientBoostingRegressor()"
      ]
     },
     "execution_count": 295,
     "metadata": {},
     "output_type": "execute_result"
    }
   ],
   "source": [
    "est = GradientBoostingRegressor()\n",
    "est.fit(X_train, Y_train)"
   ]
  },
  {
   "cell_type": "code",
   "execution_count": 296,
   "id": "c5a6aac9",
   "metadata": {},
   "outputs": [
    {
     "name": "stderr",
     "output_type": "stream",
     "text": [
      "C:\\Users\\rjaga\\anaconda3\\lib\\site-packages\\sklearn\\linear_model\\_stochastic_gradient.py:1503: ConvergenceWarning: Maximum number of iteration reached before convergence. Consider increasing max_iter to improve the fit.\n",
      "  warnings.warn(\n"
     ]
    },
    {
     "data": {
      "text/plain": [
       "SGDRegressor()"
      ]
     },
     "execution_count": 296,
     "metadata": {},
     "output_type": "execute_result"
    }
   ],
   "source": [
    "sgd = SGDRegressor()\n",
    "sgd.fit(X_train, Y_train)\n"
   ]
  },
  {
   "cell_type": "markdown",
   "id": "383703c0",
   "metadata": {},
   "source": [
    "## Evaluation"
   ]
  },
  {
   "cell_type": "code",
   "execution_count": 297,
   "id": "b719494f",
   "metadata": {},
   "outputs": [],
   "source": [
    "from sklearn import metrics\n",
    "from sklearn.metrics import classification_report, confusion_matrix, r2_score"
   ]
  },
  {
   "cell_type": "code",
   "execution_count": 298,
   "id": "351d574f",
   "metadata": {},
   "outputs": [
    {
     "name": "stdout",
     "output_type": "stream",
     "text": [
      "---------- Accuracy ----------\n",
      "Lasso regression:  0.916503299875931\n",
      "Linear regression:  0.9161043300460743\n",
      "Random forest regression:  0.9725382787753291\n",
      "gradient boosting regression:  0.9627129637241193\n",
      "Stochastic gradient Descent regression:  0.9160196532281573\n"
     ]
    }
   ],
   "source": [
    "print(\"-\"*10, \"Accuracy\", \"-\"*10)\n",
    "Y_pred_lasso = lasso.predict(X_test)\n",
    "r2lasso = r2_score(Y_test, Y_pred_lasso)\n",
    "print(\"Lasso regression: \", r2lasso)\n",
    "\n",
    "Y_pred_lr = lr.predict(X_test)\n",
    "r2lr = r2_score(Y_test, Y_pred_lr)\n",
    "print(\"Linear regression: \", r2lr)\n",
    "\n",
    "\n",
    "Y_pred_rf = rf.predict(X_test)\n",
    "r2rf = r2_score(Y_test, Y_pred_rf)\n",
    "print(\"Random forest regression: \", r2rf)\n",
    "\n",
    "\n",
    "Y_pred_est = est.predict(X_test)\n",
    "r2est = r2_score(Y_test, Y_pred_est)\n",
    "print(\"gradient boosting regression: \", r2est)\n",
    "\n",
    "Y_pred_sgd = sgd.predict(X_test)\n",
    "r2sgd = r2_score(Y_test, Y_pred_sgd)\n",
    "print(\"Stochastic gradient Descent regression: \", r2sgd)\n"
   ]
  },
  {
   "cell_type": "code",
   "execution_count": 299,
   "id": "39cf4e55",
   "metadata": {},
   "outputs": [],
   "source": [
    "import numpy as np\n",
    "\n",
    "class LinearRegressionGD:\n",
    "    def __init__(self, eta=0.001, n_iter=20):\n",
    "        self.eta = eta\n",
    "        self.n_iter = n_iter\n",
    "\n",
    "    def fit(self, X, y):\n",
    "        if type(X) == pd.core.frame.DataFrame:\n",
    "            X = X.to_numpy()\n",
    "            y = y.to_numpy()\n",
    "        self.w_ = np.zeros(1 + X.shape[1])\n",
    "        self.cost_ = []\n",
    "\n",
    "        for i in range(self.n_iter):\n",
    "            output = self.net_input(X)\n",
    "            errors = (y - output)\n",
    "            self.w_[1:] += self.eta * X.T.dot(errors)\n",
    "            self.w_[0] += self.eta * errors.sum()\n",
    "            cost = (errors**2).sum() / 2.0\n",
    "            self.cost_.append(cost)\n",
    "        return self\n",
    "\n",
    "    def net_input(self, X):\n",
    "        if type(X) == pd.core.frame.DataFrame:\n",
    "            X = X.to_numpy()\n",
    "        return np.dot(X, self.w_[1:]) + self.w_[0]\n",
    "\n",
    "    def predict(self, X):\n",
    "        if type(X) == pd.core.frame.DataFrame:\n",
    "            X = X.to_numpy()\n",
    "        return self.net_input(X)\n",
    "\n",
    "    def score(self, X, y):\n",
    "        if type(X) == pd.core.frame.DataFrame:\n",
    "            X = X.to_numpy()\n",
    "            y = y.to_numpy()\n",
    "        y_pred = self.predict(X)\n",
    "        return 1 - sum((y - y_pred)**2) / sum((y - y.mean())**2)\n"
   ]
  },
  {
   "cell_type": "code",
   "execution_count": 300,
   "id": "c5cc29ee",
   "metadata": {},
   "outputs": [
    {
     "name": "stdout",
     "output_type": "stream",
     "text": [
      "Accuracy of linear regression using gradient descent:  0.9168869575614682\n"
     ]
    }
   ],
   "source": [
    "linregr = LinearRegressionGD(n_iter=500)\n",
    "linregr.fit(X_train, Y_train)\n",
    "acc = linregr.score(X_test, Y_test)\n",
    "Y_pred_linregr = linregr.predict(X_test)\n",
    "print(\"Accuracy of linear regression using gradient descent: \", acc)"
   ]
  },
  {
   "cell_type": "code",
   "execution_count": 301,
   "id": "22cc5026",
   "metadata": {},
   "outputs": [
    {
     "data": {
      "image/png": "[encoded data removed]",
      "text/plain": [
       "<Figure size 640x480 with 1 Axes>"
      ]
     },
     "metadata": {},
     "output_type": "display_data"
    }
   ],
   "source": [
    "def accuracy_plot(model_list, X, Y):\n",
    "    scores = []\n",
    "    algorithms = []\n",
    "    for model in model_list:\n",
    "        scores.append(model.score(X,Y))\n",
    "        name = model.__class__.__name__\n",
    "        algorithms.append(name)\n",
    "        \n",
    "    plt.bar(algorithms, scores)\n",
    "    plt.ylim([0.8, 1.0])\n",
    "    plt.xticks(rotation=90)\n",
    "    plt.xlabel('Algorithm')\n",
    "    plt.ylabel('Accuracy')\n",
    "    plt.title('Accuracy Comparison of Various Algorithms')\n",
    "    # display the plot\n",
    "    plt.show()\n",
    "    \n",
    "    \n",
    "models = [lasso, lr, rf, est, linregr, sgd]  \n",
    "accuracy_plot(models, X_test, Y_test)"
   ]
  },
  {
   "cell_type": "code",
   "execution_count": 302,
   "id": "c16fc5db",
   "metadata": {
    "scrolled": true
   },
   "outputs": [
    {
     "name": "stdout",
     "output_type": "stream",
     "text": [
      "MSE for Lasso :  4966.561116491049\n",
      "MAE for Lasso :  3005.4005066114223\n",
      "MSE for linear regression:  4978.41276232625\n",
      "MAE for linear regression:  3005.302429812406\n",
      "MSE for random forest:  2848.2952468453936\n",
      "MAE for random forest:  1324.4705793648252\n",
      "MSE for gradient boosting regression:  3318.945039346789\n",
      "MAE for gradient boosting regression  1907.5902602833103\n",
      "MSE for gradient boosting regression:  4955.137591820146\n",
      "MAE for gradient boosting regression  3001.310758879181\n",
      "MSE for stochastic gradient descent regressor:  4980.924511946702\n",
      "MAE for stochastic gradient descent regressor  3018.1472063570927\n"
     ]
    }
   ],
   "source": [
    "from sklearn.metrics import mean_squared_error, mean_absolute_error, mean_absolute_error\n",
    "mse_lasso = mean_squared_error(Y_test.to_numpy(),Y_pred_lasso,squared=False)\n",
    "print(\"MSE for Lasso : \",mse_lasso)\n",
    "mae_lasso = mean_absolute_error(Y_test.to_numpy(),Y_pred_lasso)\n",
    "print(\"MAE for Lasso : \",mae_lasso)\n",
    "\n",
    "mse_lr = mean_squared_error(Y_test.to_numpy(),Y_pred_lr,squared=False)\n",
    "print(\"MSE for linear regression: \",mse_lr)\n",
    "mae_lr = mean_absolute_error(Y_test.to_numpy(),Y_pred_lr)\n",
    "print(\"MAE for linear regression: \",mae_lr)\n",
    "\n",
    "mse_rf = mean_squared_error(Y_test.to_numpy(),Y_pred_rf,squared=False)\n",
    "print(\"MSE for random forest: \",mse_rf)\n",
    "mae_rf = mean_absolute_error(Y_test.to_numpy(),Y_pred_rf)\n",
    "print(\"MAE for random forest: \",mae_rf)\n",
    "\n",
    "mse_est = mean_squared_error(Y_test.to_numpy(),Y_pred_est,squared=False)\n",
    "print(\"MSE for gradient boosting regression: \",mse_est)\n",
    "mae_est = mean_absolute_error(Y_test.to_numpy(),Y_pred_est)\n",
    "print(\"MAE for gradient boosting regression \",mae_est)\n",
    "\n",
    "mse_linregr = mean_squared_error(Y_test.to_numpy(),Y_pred_linregr,squared=False)\n",
    "print(\"MSE for gradient boosting regression: \",mse_linregr)\n",
    "mae_linregr = mean_absolute_error(Y_test.to_numpy(),Y_pred_linregr)\n",
    "print(\"MAE for gradient boosting regression \",mae_linregr)\n",
    "\n",
    "mse_sgd = mean_squared_error(Y_test.to_numpy(),Y_pred_sgd,squared=False)\n",
    "print(\"MSE for stochastic gradient descent regressor: \",mse_sgd)\n",
    "mae_sgd = mean_absolute_error(Y_test.to_numpy(),Y_pred_sgd)\n",
    "print(\"MAE for stochastic gradient descent regressor \",mae_sgd)"
   ]
  },
  {
   "cell_type": "code",
   "execution_count": 303,
   "id": "eab6ce42",
   "metadata": {},
   "outputs": [
    {
     "data": {
      "image/png": "[encoded data removed]",
      "text/plain": [
       "<Figure size 640x480 with 1 Axes>"
      ]
     },
     "metadata": {},
     "output_type": "display_data"
    }
   ],
   "source": [
    "mse_list = [mse_lasso, mse_lr, mse_rf, mse_est, mse_linregr, mse_sgd]\n",
    "plt.bar([\"LassoRegression\",\"LinearRegression\",\"RandomForestRegression\",\"GradientBoostingRegression\",\"LinearRegressionGD\",\"SGDRegressor\"], mse_list)\n",
    "plt.xticks(rotation=90)\n",
    "plt.xlabel('Algorithm')\n",
    "plt.ylabel('Root Mean Squared Errors')\n",
    "plt.title('RMSE plot for Algorithms')\n",
    "plt.show()  "
   ]
  },
  {
   "cell_type": "code",
   "execution_count": 304,
   "id": "9c7cb859",
   "metadata": {},
   "outputs": [
    {
     "data": {
      "image/png": "[encoded data removed]",
      "text/plain": [
       "<Figure size 640x480 with 1 Axes>"
      ]
     },
     "metadata": {},
     "output_type": "display_data"
    }
   ],
   "source": [
    "mae_list = [mae_lasso, mae_lr, mae_rf, mae_est, mae_linregr,mae_sgd]\n",
    "plt.bar([\"LassoRegression\",\"LinearRegression\",\"RandomForestRegression\",\"GradientBoostingRegression\",\"LinearRegressionGD\",\"SGDRegressor\"], mae_list)\n",
    "plt.xticks(rotation=90)\n",
    "plt.xlabel('Algorithm')\n",
    "plt.ylabel('Mean Absolute Errors')\n",
    "plt.title('MAE plot for Algorithms')\n",
    "plt.show()  "
   ]
  },
  {
   "cell_type": "code",
   "execution_count": 305,
   "id": "1807860f",
   "metadata": {},
   "outputs": [
    {
     "data": {
      "text/plain": [
       "[<matplotlib.lines.Line2D at 0x261f18e5730>]"
      ]
     },
     "execution_count": 305,
     "metadata": {},
     "output_type": "execute_result"
    },
    {
     "data": {
      "image/png": "[encoded data removed]",
      "text/plain": [
       "<Figure size 640x480 with 1 Axes>"
      ]
     },
     "metadata": {},
     "output_type": "display_data"
    }
   ],
   "source": [
    "plt.plot(learning_rates, execution_times)"
   ]
  },
  {
   "cell_type": "markdown",
   "id": "b25b27e0",
   "metadata": {},
   "source": [
    "# ETH"
   ]
  },
  {
   "cell_type": "code",
   "execution_count": 306,
   "id": "52209cd9",
   "metadata": {},
   "outputs": [],
   "source": [
    "# X = df.drop(columns = ['Close (ETH)'], axis = 1)\n",
    "# Y = df['Close (ETH)']"
   ]
  },
  {
   "cell_type": "code",
   "execution_count": 307,
   "id": "f493ba3e",
   "metadata": {},
   "outputs": [],
   "source": [
    "# Y.head()"
   ]
  },
  {
   "cell_type": "code",
   "execution_count": 308,
   "id": "580b5b4d",
   "metadata": {},
   "outputs": [],
   "source": [
    "# from sklearn.model_selection import train_test_split\n",
    "# #\n",
    "# X_train, X_test, Y_train, Y_test = train_test_split(X, Y, test_size = 0.3, random_state=2)"
   ]
  },
  {
   "cell_type": "code",
   "execution_count": 309,
   "id": "be29b14e",
   "metadata": {},
   "outputs": [],
   "source": [
    "# X_train"
   ]
  },
  {
   "cell_type": "code",
   "execution_count": 310,
   "id": "3ce14e9e",
   "metadata": {},
   "outputs": [],
   "source": [
    "# from sklearn.feature_selection import SelectKBest\n",
    "\n",
    "# fs = SelectKBest(k=4)\n",
    "# X_train = fs.fit_transform(X_train, Y_train)\n",
    "# X_test = fs.transform(X_test)\n",
    "# cols = fs.get_support(indices=True)\n",
    "\n",
    "# cols = [X.columns[i] for i in cols]\n",
    "# X_train = pd.DataFrame(X_train, columns=cols)\n",
    "# X_test = pd.DataFrame(X_test, columns=cols)"
   ]
  },
  {
   "cell_type": "code",
   "execution_count": 311,
   "id": "a21a374a",
   "metadata": {},
   "outputs": [
    {
     "data": {
      "text/html": [
       "<div>\n",
       "<style scoped>\n",
       "    .dataframe tbody tr th:only-of-type {\n",
       "        vertical-align: middle;\n",
       "    }\n",
       "\n",
       "    .dataframe tbody tr th {\n",
       "        vertical-align: top;\n",
       "    }\n",
       "\n",
       "    .dataframe thead th {\n",
       "        text-align: right;\n",
       "    }\n",
       "</style>\n",
       "<table border=\"1\" class=\"dataframe\">\n",
       "  <thead>\n",
       "    <tr style=\"text-align: right;\">\n",
       "      <th></th>\n",
       "      <th>Close (ETH)</th>\n",
       "      <th>Volume (USDT)</th>\n",
       "      <th>Close (BNB)</th>\n",
       "      <th>Volume (BNB)</th>\n",
       "    </tr>\n",
       "  </thead>\n",
       "  <tbody>\n",
       "    <tr>\n",
       "      <th>0</th>\n",
       "      <td>0.107352</td>\n",
       "      <td>0.147587</td>\n",
       "      <td>0.041336</td>\n",
       "      <td>0.013288</td>\n",
       "    </tr>\n",
       "    <tr>\n",
       "      <th>1</th>\n",
       "      <td>0.254626</td>\n",
       "      <td>0.215409</td>\n",
       "      <td>0.400996</td>\n",
       "      <td>0.062530</td>\n",
       "    </tr>\n",
       "    <tr>\n",
       "      <th>2</th>\n",
       "      <td>0.922377</td>\n",
       "      <td>0.260594</td>\n",
       "      <td>0.923797</td>\n",
       "      <td>0.134894</td>\n",
       "    </tr>\n",
       "    <tr>\n",
       "      <th>3</th>\n",
       "      <td>0.019418</td>\n",
       "      <td>0.049833</td>\n",
       "      <td>0.025104</td>\n",
       "      <td>0.011309</td>\n",
       "    </tr>\n",
       "    <tr>\n",
       "      <th>4</th>\n",
       "      <td>0.163405</td>\n",
       "      <td>0.006253</td>\n",
       "      <td>0.012926</td>\n",
       "      <td>0.002582</td>\n",
       "    </tr>\n",
       "  </tbody>\n",
       "</table>\n",
       "</div>"
      ],
      "text/plain": [
       "   Close (ETH)  Volume (USDT)  Close (BNB)  Volume (BNB)\n",
       "0     0.107352       0.147587     0.041336      0.013288\n",
       "1     0.254626       0.215409     0.400996      0.062530\n",
       "2     0.922377       0.260594     0.923797      0.134894\n",
       "3     0.019418       0.049833     0.025104      0.011309\n",
       "4     0.163405       0.006253     0.012926      0.002582"
      ]
     },
     "execution_count": 311,
     "metadata": {},
     "output_type": "execute_result"
    }
   ],
   "source": [
    "X_train.head()"
   ]
  },
  {
   "cell_type": "code",
   "execution_count": 312,
   "id": "52f8eef5",
   "metadata": {},
   "outputs": [],
   "source": [
    "# # Standardisation\n",
    "# from sklearn.preprocessing import StandardScaler\n",
    "# standard_scalar = StandardScaler()\n",
    "# st_Xtrain = standard_scalar.fit_transform(X_train)\n",
    "# st_Xtest = standard_scalar.transform(X_test)\n",
    "# st_X_train = pd.DataFrame(st_Xtrain, columns=cols)\n",
    "# st_X_test = pd.DataFrame(st_Xtest, columns=cols)\n",
    "# st_X_train.head()"
   ]
  },
  {
   "cell_type": "code",
   "execution_count": 313,
   "id": "94d74a7d",
   "metadata": {},
   "outputs": [],
   "source": [
    "# # Normalisation\n",
    "# from sklearn.preprocessing import MinMaxScaler\n",
    "# scaler = MinMaxScaler()\n",
    "# X_train = scaler.fit_transform(X_train)\n",
    "# X_test = scaler.transform(X_test)\n",
    "# X_train = pd.DataFrame(X_train, columns=cols)\n",
    "# X_test = pd.DataFrame(X_test, columns=cols)"
   ]
  },
  {
   "cell_type": "code",
   "execution_count": 314,
   "id": "526a4843",
   "metadata": {},
   "outputs": [
    {
     "data": {
      "text/html": [
       "<div>\n",
       "<style scoped>\n",
       "    .dataframe tbody tr th:only-of-type {\n",
       "        vertical-align: middle;\n",
       "    }\n",
       "\n",
       "    .dataframe tbody tr th {\n",
       "        vertical-align: top;\n",
       "    }\n",
       "\n",
       "    .dataframe thead th {\n",
       "        text-align: right;\n",
       "    }\n",
       "</style>\n",
       "<table border=\"1\" class=\"dataframe\">\n",
       "  <thead>\n",
       "    <tr style=\"text-align: right;\">\n",
       "      <th></th>\n",
       "      <th>Close (ETH)</th>\n",
       "      <th>Volume (USDT)</th>\n",
       "      <th>Close (BNB)</th>\n",
       "      <th>Volume (BNB)</th>\n",
       "    </tr>\n",
       "  </thead>\n",
       "  <tbody>\n",
       "    <tr>\n",
       "      <th>0</th>\n",
       "      <td>0.107352</td>\n",
       "      <td>0.147587</td>\n",
       "      <td>0.041336</td>\n",
       "      <td>0.013288</td>\n",
       "    </tr>\n",
       "    <tr>\n",
       "      <th>1</th>\n",
       "      <td>0.254626</td>\n",
       "      <td>0.215409</td>\n",
       "      <td>0.400996</td>\n",
       "      <td>0.062530</td>\n",
       "    </tr>\n",
       "    <tr>\n",
       "      <th>2</th>\n",
       "      <td>0.922377</td>\n",
       "      <td>0.260594</td>\n",
       "      <td>0.923797</td>\n",
       "      <td>0.134894</td>\n",
       "    </tr>\n",
       "    <tr>\n",
       "      <th>3</th>\n",
       "      <td>0.019418</td>\n",
       "      <td>0.049833</td>\n",
       "      <td>0.025104</td>\n",
       "      <td>0.011309</td>\n",
       "    </tr>\n",
       "    <tr>\n",
       "      <th>4</th>\n",
       "      <td>0.163405</td>\n",
       "      <td>0.006253</td>\n",
       "      <td>0.012926</td>\n",
       "      <td>0.002582</td>\n",
       "    </tr>\n",
       "  </tbody>\n",
       "</table>\n",
       "</div>"
      ],
      "text/plain": [
       "   Close (ETH)  Volume (USDT)  Close (BNB)  Volume (BNB)\n",
       "0     0.107352       0.147587     0.041336      0.013288\n",
       "1     0.254626       0.215409     0.400996      0.062530\n",
       "2     0.922377       0.260594     0.923797      0.134894\n",
       "3     0.019418       0.049833     0.025104      0.011309\n",
       "4     0.163405       0.006253     0.012926      0.002582"
      ]
     },
     "execution_count": 314,
     "metadata": {},
     "output_type": "execute_result"
    }
   ],
   "source": [
    "X_train.head()"
   ]
  },
  {
   "cell_type": "markdown",
   "id": "048a9c57",
   "metadata": {},
   "source": [
    "# DATA VISUALIZATION"
   ]
  },
  {
   "cell_type": "markdown",
   "id": "88f35010",
   "metadata": {},
   "source": [
    "# SCATTER PLOT"
   ]
  },
  {
   "cell_type": "code",
   "execution_count": 315,
   "id": "e39dc1f3",
   "metadata": {},
   "outputs": [],
   "source": [
    "# # SCATTER PLOT\n",
    "# data = df\n",
    "\n",
    "# plt.plot(data['Close (ETH)'])\n",
    "\n",
    "# plt.title(\"Scatter Plot\")\n",
    " \n",
    "# plt.xlabel('Date')\n",
    "\n",
    "# plt.ylabel('Close (ETH)')\n",
    " \n",
    "# plt.show()"
   ]
  },
  {
   "cell_type": "markdown",
   "id": "3c514059",
   "metadata": {},
   "source": [
    "# MODELING"
   ]
  },
  {
   "cell_type": "code",
   "execution_count": 316,
   "id": "2fcb99d4",
   "metadata": {},
   "outputs": [],
   "source": [
    "# from sklearn.linear_model import Lasso, LinearRegression\n",
    "# from sklearn.ensemble import RandomForestRegressor, GradientBoostingRegressor"
   ]
  },
  {
   "cell_type": "code",
   "execution_count": 317,
   "id": "f50ed5d4",
   "metadata": {},
   "outputs": [],
   "source": [
    "# lasso = Lasso()\n",
    "# lasso.fit(X_train, Y_train)"
   ]
  },
  {
   "cell_type": "code",
   "execution_count": 318,
   "id": "1cbf27e6",
   "metadata": {},
   "outputs": [],
   "source": [
    "# lr = LinearRegression()\n",
    "# lr.fit(X_train, Y_train)"
   ]
  },
  {
   "cell_type": "code",
   "execution_count": 319,
   "id": "54aa779b",
   "metadata": {},
   "outputs": [],
   "source": [
    "# rf = RandomForestRegressor()\n",
    "# rf.fit(X_train,Y_train)"
   ]
  },
  {
   "cell_type": "code",
   "execution_count": 320,
   "id": "021a632e",
   "metadata": {},
   "outputs": [],
   "source": [
    "# est = GradientBoostingRegressor()\n",
    "# est.fit(X_train, Y_train)"
   ]
  },
  {
   "cell_type": "markdown",
   "id": "8f6db365",
   "metadata": {},
   "source": [
    "# Evaluation"
   ]
  },
  {
   "cell_type": "code",
   "execution_count": 321,
   "id": "67689b6f",
   "metadata": {},
   "outputs": [],
   "source": [
    "# from sklearn import metrics\n",
    "# from sklearn.metrics import classification_report, confusion_matrix, r2_score"
   ]
  },
  {
   "cell_type": "code",
   "execution_count": 322,
   "id": "186782bc",
   "metadata": {},
   "outputs": [],
   "source": [
    "# print(\"-\"*10, \"Accuracy\", \"-\"*10)\n",
    "# Y_pred_lasso = lasso.predict(X_test)\n",
    "# r2lasso = r2_score(Y_test, Y_pred_lasso)\n",
    "# print(lasso.score(X_test, Y_test))\n",
    "# print(\"Lasso regression: \", r2lasso)\n",
    "\n",
    "# Y_pred_lr = lr.predict(X_test)\n",
    "# r2lr = r2_score(Y_test, Y_pred_lr)\n",
    "# print(lasso.score(X_test, Y_test))\n",
    "# print(\"Linear regression: \", r2lr)\n",
    "\n",
    "\n",
    "# Y_pred_rf = rf.predict(X_test)\n",
    "# r2rf = r2_score(Y_test, Y_pred_rf)\n",
    "# print(lasso.score(X_test, Y_test))\n",
    "# print(\"Random forest regression: \", r2rf)\n",
    "\n",
    "\n",
    "# Y_pred_est = est.predict(X_test)\n",
    "# r2est = r2_score(Y_test, Y_pred_est)\n",
    "# print(lasso.score(X_test, Y_test))\n",
    "# print(\"gradient boosting regression: \", r2est)\n"
   ]
  },
  {
   "cell_type": "code",
   "execution_count": 323,
   "id": "24e9f08f",
   "metadata": {},
   "outputs": [],
   "source": [
    "# import numpy as np\n",
    "\n",
    "# class LinearRegressionGD:\n",
    "#     def __init__(self, eta=0.001, n_iter=20):\n",
    "#         self.eta = eta\n",
    "#         self.n_iter = n_iter\n",
    "\n",
    "#     def fit(self, X, y):\n",
    "#         if type(X) == pd.core.frame.DataFrame:\n",
    "#             X = X.to_numpy()\n",
    "#             y = y.to_numpy()\n",
    "#         self.w_ = np.zeros(1 + X.shape[1])\n",
    "#         self.cost_ = []\n",
    "\n",
    "#         for i in range(self.n_iter):\n",
    "#             output = self.net_input(X)\n",
    "#             errors = (y - output)\n",
    "#             self.w_[1:] += self.eta * X.T.dot(errors)\n",
    "#             self.w_[0] += self.eta * errors.sum()\n",
    "#             cost = (errors**2).sum() / 2.0\n",
    "#             self.cost_.append(cost)\n",
    "#         return self\n",
    "\n",
    "#     def net_input(self, X):\n",
    "#         if type(X) == pd.core.frame.DataFrame:\n",
    "#             X = X.to_numpy()\n",
    "#         return np.dot(X, self.w_[1:]) + self.w_[0]\n",
    "\n",
    "#     def predict(self, X):\n",
    "#         if type(X) == pd.core.frame.DataFrame:\n",
    "#             X = X.to_numpy()\n",
    "#         return self.net_input(X)\n",
    "\n",
    "#     def score(self, X, y):\n",
    "#         if type(X) == pd.core.frame.DataFrame:\n",
    "#             X = X.to_numpy()\n",
    "#             y = y.to_numpy()\n",
    "#         y_pred = self.predict(X)\n",
    "#         return 1 - sum((y - y_pred)**2) / sum((y - y.mean())**2)\n"
   ]
  },
  {
   "cell_type": "code",
   "execution_count": 324,
   "id": "9c644258",
   "metadata": {},
   "outputs": [],
   "source": [
    "# linregr = LinearRegressionGD(n_iter=500)\n",
    "# linregr.fit(X_train, Y_train)\n",
    "# acc = linregr.score(X_test, Y_test)\n",
    "# print(\"Accuracy of linear regression using gradient descent: \", acc)"
   ]
  },
  {
   "cell_type": "code",
   "execution_count": 325,
   "id": "97858b71",
   "metadata": {},
   "outputs": [],
   "source": [
    "\n",
    "# def accuracy_plot(model_list, X, Y):\n",
    "#     scores = []\n",
    "#     algorithms = []\n",
    "#     for model in model_list:\n",
    "#         scores.append(model.score(X,Y))\n",
    "#         name = model.__class__.__name__\n",
    "#         algorithms.append(name)\n",
    "        \n",
    "#     plt.bar(algorithms, scores)\n",
    "#     plt.ylim([0.8, 1.0])\n",
    "#     plt.xticks(rotation=90)\n",
    "#     plt.xlabel('Algorithm')\n",
    "#     plt.ylabel('Accuracy')\n",
    "#     plt.title('Accuracy Comparison of Various Algorithms')\n",
    "#     # display the plot\n",
    "#     plt.show()\n",
    "    \n",
    "    \n",
    "# models = [lasso, lr, rf, est, linregr]  \n",
    "# accuracy_plot(models, X_test, Y_test)"
   ]
  },
  {
   "cell_type": "code",
   "execution_count": null,
   "id": "ab19e2e4",
   "metadata": {},
   "outputs": [],
   "source": []
  }
 ],
 "metadata": {
  "kernelspec": {
   "display_name": "Python 3",
   "language": "python",
   "name": "python3"
  },
  "language_info": {
   "codemirror_mode": {
    "name": "ipython",
    "version": 3
   },
   "file_extension": ".py",
   "mimetype": "text/x-python",
   "name": "python",
   "nbconvert_exporter": "python",
   "pygments_lexer": "ipython3"
  },
  "vscode": {
   "interpreter": {
    "hash": "95a55779bca89d1658fadc4185e8faa829cc9098ec51e24c80ffbe653fab822a"
   }
  }
 },
 "nbformat": 4,
 "nbformat_minor": 5
}
